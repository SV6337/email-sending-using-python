{
 "cells": [
  {
   "cell_type": "code",
   "execution_count": 3,
   "id": "33972731-1187-48f9-b3d1-07477ff6ebe4",
   "metadata": {},
   "outputs": [
    {
     "name": "stdin",
     "output_type": "stream",
     "text": [
      "Email:  ········\n",
      "Password:  ········\n"
     ]
    },
    {
     "name": "stdout",
     "output_type": "stream",
     "text": [
      "Login successful\n"
     ]
    },
    {
     "name": "stdin",
     "output_type": "stream",
     "text": [
      "Enter recipient's email address:  sathvikv77@gmail.com\n",
      "Enter the subject line:  hi hello\n",
      "Enter the body message:  hi hello\n"
     ]
    },
    {
     "name": "stdout",
     "output_type": "stream",
     "text": [
      "Email sent successfully\n"
     ]
    }
   ],
   "source": [
    "import smtplib\n",
    "import getpass\n",
    "\n",
    "def main():\n",
    "    smtp_object = None\n",
    "    try:\n",
    "        # Connect to the SMTP server\n",
    "        smtp_object = smtplib.SMTP('smtp.gmail.com', 587)\n",
    "        smtp_object.ehlo()  # Identify ourselves to the server\n",
    "        smtp_object.starttls()  # Start TLS for security\n",
    "\n",
    "        # Prompt for user credentials\n",
    "        email = getpass.getpass(\"Email: \")\n",
    "        password = getpass.getpass(\"Password: \")\n",
    "\n",
    "        # Log in to the SMTP server\n",
    "        smtp_object.login(email, password)\n",
    "        print(\"Login successful\")\n",
    "\n",
    "        # Get email details from user\n",
    "        from_address = email\n",
    "        to_address = input(\"Enter recipient's email address: \")  # Prompt for recipient email address\n",
    "        subject = input(\"Enter the subject line: \")\n",
    "        message = input(\"Enter the body message: \")\n",
    "        msg = f\"Subject: {subject}\\n\\n{message}\"\n",
    "\n",
    "        # Send the email\n",
    "        smtp_object.sendmail(from_address, to_address, msg)\n",
    "        print(\"Email sent successfully\")\n",
    "\n",
    "    except smtplib.SMTPAuthenticationError:\n",
    "        print(\"Authentication failed. Please check your email and password.\")\n",
    "    except smtplib.SMTPConnectError:\n",
    "        print(\"Failed to connect to the server. Please check your internet connection.\")\n",
    "    except smtplib.SMTPServerDisconnected:\n",
    "        print(\"Server disconnected unexpectedly. Please check your network connection or try again later.\")\n",
    "    except smtplib.SMTPNotSupportedError:\n",
    "        print(\"SMTP AUTH extension not supported by the server.\")\n",
    "    except Exception as e:\n",
    "        print(f\"An error occurred: {e}\")\n",
    "    finally:\n",
    "        if smtp_object:\n",
    "            try:\n",
    "                smtp_object.quit()  # Close the connection\n",
    "            except:\n",
    "                pass  # Ignore if quit fails due to previous errors\n",
    "\n",
    "if __name__ == \"__main__\":\n",
    "    main()\n"
   ]
  },
  {
   "cell_type": "code",
   "execution_count": null,
   "id": "0cbd6138-595f-4706-b9b9-221d32e88e6f",
   "metadata": {},
   "outputs": [],
   "source": []
  }
 ],
 "metadata": {
  "kernelspec": {
   "display_name": "Python 3 (ipykernel)",
   "language": "python",
   "name": "python3"
  },
  "language_info": {
   "codemirror_mode": {
    "name": "ipython",
    "version": 3
   },
   "file_extension": ".py",
   "mimetype": "text/x-python",
   "name": "python",
   "nbconvert_exporter": "python",
   "pygments_lexer": "ipython3",
   "version": "3.11.7"
  }
 },
 "nbformat": 4,
 "nbformat_minor": 5
}
